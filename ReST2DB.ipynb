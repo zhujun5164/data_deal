{
 "cells": [
  {
   "cell_type": "code",
   "execution_count": 1,
   "metadata": {},
   "outputs": [],
   "source": [
    "import json\n",
    "import os\n",
    "import shutil"
   ]
  },
  {
   "cell_type": "code",
   "execution_count": 2,
   "metadata": {},
   "outputs": [],
   "source": [
    "to_dir = 'DB_datatype'\n",
    "if not os.path.exists(to_dir):\n",
    "    os.makedirs(to_dir, exist_ok=True)\n",
    "\n",
    "json_data = json.load(open('train_gts.json', 'r', encoding='utf-8'))"
   ]
  },
  {
   "cell_type": "code",
   "execution_count": 19,
   "metadata": {},
   "outputs": [
    {
     "data": {
      "text/plain": [
       "[{'points': [], 'transcription': '北川羌族自治县农村信用合作联社'}]"
      ]
     },
     "execution_count": 19,
     "metadata": {},
     "output_type": "execute_result"
    }
   ],
   "source": [
    "json_data['gt_1806']"
   ]
  },
  {
   "cell_type": "code",
   "execution_count": 17,
   "metadata": {},
   "outputs": [],
   "source": [
    "img_dir = 'F:/downloads/ReST_train/train_images/train_images'\n",
    "to_dir = 'F:/downloads/ReST_train/DB_datatype'\n",
    "toimg_dir = os.path.join(to_dir, 'ReST_images')\n",
    "tolabel_dir = os.path.join(to_dir, 'ReST_gts')\n",
    "\n",
    "os.makedirs(to_dir, exist_ok=True)\n",
    "os.makedirs(toimg_dir, exist_ok=True)\n",
    "os.makedirs(tolabel_dir, exist_ok=True)\n",
    "\n",
    "img_lists = []\n",
    "\n",
    "for k, v in json_data.items():\n",
    "    num = k[3:]\n",
    "    img_name = f'ReST_{num}.jpg'\n",
    "\n",
    "    img_path = os.path.join(img_dir, f'{num}.jpg').replace('\\\\', '/')\n",
    "    to_path = os.path.join(toimg_dir, img_name).replace('\\\\', '/')\n",
    "\n",
    "    shutil.copyfile(img_path, to_path)\n",
    "\n",
    "    tolabel_path = os.path.join(tolabel_dir, f'{img_name}.txt').replace('\\\\', '/')\n",
    "    \n",
    "    print_datas = []\n",
    "    if isinstance(v, list):\n",
    "        for _v in v:\n",
    "            points = _v['points']\n",
    "            transcription = _v['transcription']\n",
    "            if len(points) > 0:\n",
    "                print_datas.append(','.join([str(j) for i in points for j in i]) + f',{transcription}')\n",
    "    else:\n",
    "        points = v['points']\n",
    "        transcription = v['transcription']\n",
    "        if len(points) > 0:\n",
    "            print_datas.append(','.join([str(j) for i in points for j in i]) + f',{transcription}')\n",
    "\n",
    "    if len(print_datas) > 0:\n",
    "        img_lists.append(img_name)\n",
    "        with open(tolabel_path, 'w', encoding='utf-8') as f:\n",
    "            for d in print_datas:\n",
    "                f.write(d)\n",
    "                f.write('\\n')\n",
    "\n",
    "save_path = os.path.join(to_dir, 'ReST_lists.txt').replace('\\\\', '/')\n",
    "with open(save_path, 'w', encoding='utf-8') as f:\n",
    "    for d in img_lists:\n",
    "        f.write(d)\n",
    "        f.write('\\n')"
   ]
  },
  {
   "cell_type": "code",
   "execution_count": 16,
   "metadata": {},
   "outputs": [],
   "source": []
  },
  {
   "cell_type": "code",
   "execution_count": null,
   "metadata": {},
   "outputs": [],
   "source": []
  }
 ],
 "metadata": {
  "kernelspec": {
   "display_name": "py37",
   "language": "python",
   "name": "python3"
  },
  "language_info": {
   "codemirror_mode": {
    "name": "ipython",
    "version": 3
   },
   "file_extension": ".py",
   "mimetype": "text/x-python",
   "name": "python",
   "nbconvert_exporter": "python",
   "pygments_lexer": "ipython3",
   "version": "3.7.15"
  },
  "orig_nbformat": 4
 },
 "nbformat": 4,
 "nbformat_minor": 2
}
