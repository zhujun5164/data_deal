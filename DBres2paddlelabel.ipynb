{
 "cells": [
  {
   "cell_type": "code",
   "execution_count": 4,
   "metadata": {},
   "outputs": [],
   "source": [
    "import os\n",
    "\n",
    "list_dir = './DB_datatype/res_data'\n",
    "\n",
    "data_dir = './DB_datatype/ReST_'\n",
    "img_dir = data_dir + 'images'\n",
    "\n",
    "label_lists = [i for i in os.listdir(list_dir) if i.endswith('.txt')]    "
   ]
  },
  {
   "cell_type": "code",
   "execution_count": 12,
   "metadata": {},
   "outputs": [],
   "source": [
    "import json\n",
    "import numpy as np\n",
    "\n",
    "save_datas = []\n",
    "for label_name in label_lists:\n",
    "\n",
    "    img_name = label_name[4: -4] + '.jpg'\n",
    "    label_path = os.path.join(list_dir, label_name).replace('\\\\', '/')\n",
    "    label_data = open(label_path, 'r', encoding='utf-8').read().splitlines()\n",
    "    data = []\n",
    "    for _label_data in label_data:\n",
    "        _label_data = [int(i) for i in _label_data.split(',')[:-1]]\n",
    "        gt_points = np.array(_label_data).reshape(-1, 2).tolist()\n",
    "        data.append({'transcription': '待识别', 'points': gt_points})\n",
    "    save_datas.append(f'ReST_images/{img_name}\\t{json.dumps(data)}')\n",
    "\n",
    "with open(f'{img_dir}/Cache.cach', 'w', encoding='utf-8') as f:\n",
    "    for d in save_data:\n",
    "        f.write(d)\n",
    "        f.write('\\n')"
   ]
  },
  {
   "cell_type": "code",
   "execution_count": 5,
   "metadata": {},
   "outputs": [],
   "source": [
    "label_path = os.path.join(list_dir, label_lists[0]).replace('\\\\', '/')\n",
    "label_data = open(label_path, 'r', encoding='utf-8').read().splitlines()"
   ]
  },
  {
   "cell_type": "code",
   "execution_count": 9,
   "metadata": {},
   "outputs": [],
   "source": []
  },
  {
   "cell_type": "code",
   "execution_count": null,
   "metadata": {},
   "outputs": [],
   "source": []
  }
 ],
 "metadata": {
  "kernelspec": {
   "display_name": "py37",
   "language": "python",
   "name": "python3"
  },
  "language_info": {
   "codemirror_mode": {
    "name": "ipython",
    "version": 3
   },
   "file_extension": ".py",
   "mimetype": "text/x-python",
   "name": "python",
   "nbconvert_exporter": "python",
   "pygments_lexer": "ipython3",
   "version": "3.7.15"
  },
  "orig_nbformat": 4
 },
 "nbformat": 4,
 "nbformat_minor": 2
}
