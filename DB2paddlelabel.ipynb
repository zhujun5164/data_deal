{
 "cells": [
  {
   "cell_type": "code",
   "execution_count": 36,
   "metadata": {},
   "outputs": [],
   "source": [
    "import os\n",
    "import numpy as np\n",
    "import json\n",
    "\n",
    "data_dir = './DB_datatype/ReST_'\n",
    "img_dir = data_dir + 'images'\n",
    "label_dir = data_dir + 'gts'\n",
    "\n",
    "label_lists = [i for i in os.listdir(label_dir) if i.endswith('.txt')]\n",
    "\n",
    "save_data = []\n",
    "for label_name in label_lists:\n",
    "    img_name = label_name[:-4]\n",
    "    label_path = os.path.join(label_dir, label_name).replace('\\\\', '/')\n",
    "    label_data = open(label_path, 'r', encoding='utf-8').read().splitlines()\n",
    "\n",
    "    data = []\n",
    "    for _label_data in label_data:\n",
    "        _label_data = _label_data.split(',')\n",
    "        gt_points, transcription = _label_data[:-1], _label_data[-1]\n",
    "        if len(gt_points) > 0:\n",
    "            gt_points = [int(i) for i in gt_points]\n",
    "            gt_points = np.array(gt_points).reshape(-1, 2).tolist()\n",
    "            data.append({'transcription': transcription, 'points': gt_points})\n",
    "    save_data.append(f'ReST_images/{img_name}\\t{json.dumps(data)}')\n"
   ]
  },
  {
   "cell_type": "code",
   "execution_count": 37,
   "metadata": {},
   "outputs": [],
   "source": [
    "with open(f'{img_dir}/Cache.cach', 'w', encoding='utf-8') as f:\n",
    "    for d in save_data:\n",
    "        f.write(d)\n",
    "        f.write('\\n')"
   ]
  },
  {
   "cell_type": "code",
   "execution_count": null,
   "metadata": {},
   "outputs": [],
   "source": []
  }
 ],
 "metadata": {
  "kernelspec": {
   "display_name": "py37",
   "language": "python",
   "name": "python3"
  },
  "language_info": {
   "codemirror_mode": {
    "name": "ipython",
    "version": 3
   },
   "file_extension": ".py",
   "mimetype": "text/x-python",
   "name": "python",
   "nbconvert_exporter": "python",
   "pygments_lexer": "ipython3",
   "version": "3.7.15"
  },
  "orig_nbformat": 4
 },
 "nbformat": 4,
 "nbformat_minor": 2
}
