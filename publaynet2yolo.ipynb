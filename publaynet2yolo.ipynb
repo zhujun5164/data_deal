{
 "cells": [
  {
   "cell_type": "code",
   "execution_count": 4,
   "metadata": {},
   "outputs": [],
   "source": [
    "import os\n",
    "import shutil\n",
    "from tqdm.notebook import tqdm"
   ]
  },
  {
   "cell_type": "code",
   "execution_count": 1,
   "metadata": {},
   "outputs": [],
   "source": [
    "data_dir = 'g:/layout_analyse/for_yolo/'\n",
    "to_dir = 'g:/table/publaynet_1/'"
   ]
  },
  {
   "cell_type": "code",
   "execution_count": 9,
   "metadata": {},
   "outputs": [],
   "source": [
    "data_list1 = [os.path.join(data_dir + 'images/train', i).replace('\\\\', '/') for i in os.listdir(data_dir + 'images/train')]\n",
    "data_list2 = [os.path.join(data_dir + 'images/val', i).replace('\\\\', '/') for i in os.listdir(data_dir + 'images/val')]\n",
    "data_lists = data_list1 + data_list2"
   ]
  },
  {
   "cell_type": "code",
   "execution_count": 15,
   "metadata": {},
   "outputs": [
    {
     "data": {
      "application/vnd.jupyter.widget-view+json": {
       "model_id": "d904bc095afd4055a0e11cf62f522d21",
       "version_major": 2,
       "version_minor": 0
      },
      "text/plain": [
       "HBox(children=(FloatProgress(value=0.0, max=346940.0), HTML(value='')))"
      ]
     },
     "metadata": {},
     "output_type": "display_data"
    },
    {
     "name": "stdout",
     "output_type": "stream",
     "text": [
      "\n"
     ]
    }
   ],
   "source": [
    "for img_path in tqdm(data_lists):\n",
    "    label_path = img_path.replace('images', 'labels').replace('.jpg', '.txt')\n",
    "    label_texts = open(label_path, encoding='utf-8').read().splitlines()\n",
    "    for label_text in label_texts:\n",
    "        label = label_text.split(' ')[0]\n",
    "        new_label_texts = []\n",
    "        if int(label) == 3:\n",
    "            new_label_texts.append(label_text)\n",
    "        \n",
    "        if len(new_label_texts) > 0:\n",
    "            to_image_path = img_path.replace(data_dir, to_dir)\n",
    "            to_label_path = label_path.replace(data_dir, to_dir)\n",
    "\n",
    "            with open(to_label_path, 'w') as f:\n",
    "                for new_label_text in new_label_texts:\n",
    "                    f.write('0' + new_label_text[1:])\n",
    "                    f.write('\\n')\n",
    "            shutil.copyfile(img_path, to_image_path)"
   ]
  },
  {
   "cell_type": "code",
   "execution_count": null,
   "metadata": {},
   "outputs": [],
   "source": []
  }
 ],
 "metadata": {
  "kernelspec": {
   "display_name": "Python 3",
   "language": "python",
   "name": "python3"
  },
  "language_info": {
   "codemirror_mode": {
    "name": "ipython",
    "version": 3
   },
   "file_extension": ".py",
   "mimetype": "text/x-python",
   "name": "python",
   "nbconvert_exporter": "python",
   "pygments_lexer": "ipython3",
   "version": "3.8.3"
  }
 },
 "nbformat": 4,
 "nbformat_minor": 4
}
